{
  "nbformat": 4,
  "nbformat_minor": 0,
  "metadata": {
    "colab": {
      "provenance": [],
      "authorship_tag": "ABX9TyOPqOjiMXOT0X3a3UKWyyUM",
      "include_colab_link": true
    },
    "kernelspec": {
      "name": "python3",
      "display_name": "Python 3"
    },
    "language_info": {
      "name": "python"
    }
  },
  "cells": [
    {
      "cell_type": "markdown",
      "metadata": {
        "id": "view-in-github",
        "colab_type": "text"
      },
      "source": [
        "<a href=\"https://colab.research.google.com/github/tanishqpanipat/OS/blob/main/Experiment7OS.ipynb\" target=\"_parent\"><img src=\"https://colab.research.google.com/assets/colab-badge.svg\" alt=\"Open In Colab\"/></a>"
      ]
    },
    {
      "cell_type": "code",
      "execution_count": 1,
      "metadata": {
        "colab": {
          "base_uri": "https://localhost:8080/"
        },
        "id": "JVIdRFVDWPx0",
        "outputId": "6601916b-584d-47f9-841e-9159fbfdac02"
      },
      "outputs": [
        {
          "output_type": "stream",
          "name": "stdout",
          "text": [
            "Executing P2 with priority 1...\n",
            "Executing P1 with priority 2...\n",
            "Executing P3 with priority 3...\n",
            "Executing P4 with priority 4...\n",
            "Average Waiting Time: 8.00\n"
          ]
        }
      ],
      "source": [
        "import queue\n",
        "\n",
        "class Process:\n",
        "    def __init__(self, name, priority, burst_time):\n",
        "        self.name = name\n",
        "        self.priority = priority\n",
        "        self.burst_time = burst_time\n",
        "\n",
        "    def __lt__(self, other):\n",
        "        # Define comparison between processes based on priority\n",
        "        return self.priority < other.priority\n",
        "\n",
        "def priority_scheduling(processes):\n",
        "    # Create a priority queue to store processes\n",
        "    pq = queue.PriorityQueue()\n",
        "\n",
        "    # Add processes to the priority queue\n",
        "    for process in processes:\n",
        "        pq.put(process)\n",
        "\n",
        "    # Initialize time and total waiting time\n",
        "    time = 0\n",
        "    total_waiting_time = 0\n",
        "\n",
        "    # Process each task in priority order\n",
        "    while not pq.empty():\n",
        "        current_process = pq.get()\n",
        "        print(f\"Executing {current_process.name} with priority {current_process.priority}...\")\n",
        "\n",
        "        # Update waiting time for the current process\n",
        "        total_waiting_time += time\n",
        "\n",
        "        # Update time\n",
        "        time += current_process.burst_time\n",
        "\n",
        "    # Calculate and print average waiting time\n",
        "    average_waiting_time = total_waiting_time / len(processes)\n",
        "    print(f\"Average Waiting Time: {average_waiting_time:.2f}\")\n",
        "\n",
        "if __name__ == \"__main__\":\n",
        "    # Example processes with name, priority, and burst time\n",
        "    processes = [\n",
        "        Process(\"P1\", 2, 7),\n",
        "        Process(\"P2\", 1, 5),\n",
        "        Process(\"P3\", 3, 3),\n",
        "        Process(\"P4\", 4, 2),\n",
        "    ]\n",
        "\n",
        "    # Perform priority scheduling\n",
        "    priority_scheduling(processes)"
      ]
    }
  ]
}